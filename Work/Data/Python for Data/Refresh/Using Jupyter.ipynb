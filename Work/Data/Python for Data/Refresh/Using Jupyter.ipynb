{
 "cells": [
  {
   "cell_type": "markdown",
   "id": "904be0e6",
   "metadata": {},
   "source": [
    "# Data Types"
   ]
  },
  {
   "cell_type": "code",
   "execution_count": 1,
   "id": "b63ee18f",
   "metadata": {},
   "outputs": [
    {
     "data": {
      "text/plain": [
       "int"
      ]
     },
     "execution_count": 1,
     "metadata": {},
     "output_type": "execute_result"
    }
   ],
   "source": [
    "type(12)"
   ]
  },
  {
   "cell_type": "code",
   "execution_count": 2,
   "id": "e27b823f",
   "metadata": {},
   "outputs": [
    {
     "data": {
      "text/plain": [
       "float"
      ]
     },
     "execution_count": 2,
     "metadata": {},
     "output_type": "execute_result"
    }
   ],
   "source": [
    "type(12+21.2)"
   ]
  },
  {
   "cell_type": "code",
   "execution_count": 3,
   "id": "d819f683",
   "metadata": {},
   "outputs": [
    {
     "data": {
      "text/plain": [
       "complex"
      ]
     },
     "execution_count": 3,
     "metadata": {},
     "output_type": "execute_result"
    }
   ],
   "source": [
    "type(12 + 2j)"
   ]
  },
  {
   "cell_type": "code",
   "execution_count": 4,
   "id": "91d50dba",
   "metadata": {},
   "outputs": [],
   "source": [
    "#Boolean"
   ]
  },
  {
   "cell_type": "code",
   "execution_count": 5,
   "id": "158f0e63",
   "metadata": {},
   "outputs": [
    {
     "data": {
      "text/plain": [
       "bool"
      ]
     },
     "execution_count": 5,
     "metadata": {},
     "output_type": "execute_result"
    }
   ],
   "source": [
    "type(True)"
   ]
  },
  {
   "cell_type": "code",
   "execution_count": 6,
   "id": "5fe4814b",
   "metadata": {},
   "outputs": [
    {
     "data": {
      "text/plain": [
       "bool"
      ]
     },
     "execution_count": 6,
     "metadata": {},
     "output_type": "execute_result"
    }
   ],
   "source": [
    "type(False)"
   ]
  },
  {
   "cell_type": "code",
   "execution_count": 7,
   "id": "573860ba",
   "metadata": {},
   "outputs": [
    {
     "data": {
      "text/plain": [
       "bool"
      ]
     },
     "execution_count": 7,
     "metadata": {},
     "output_type": "execute_result"
    }
   ],
   "source": [
    "type(1 > 5)"
   ]
  },
  {
   "cell_type": "code",
   "execution_count": 8,
   "id": "9dcd36ce",
   "metadata": {},
   "outputs": [
    {
     "data": {
      "text/plain": [
       "'- I know what they are.'"
      ]
     },
     "execution_count": 8,
     "metadata": {},
     "output_type": "execute_result"
    }
   ],
   "source": [
    "#Strings\n",
    "\n",
    "'- I know what they are.'\n"
   ]
  },
  {
   "cell_type": "code",
   "execution_count": 9,
   "id": "c75537de",
   "metadata": {},
   "outputs": [
    {
     "name": "stdout",
     "output_type": "stream",
     "text": [
      "hello\n"
     ]
    }
   ],
   "source": [
    "a = \"hello world!\"\n",
    "\n",
    "print(a[:5])"
   ]
  },
  {
   "cell_type": "code",
   "execution_count": 10,
   "id": "9e36f525",
   "metadata": {},
   "outputs": [
    {
     "name": "stdout",
     "output_type": "stream",
     "text": [
      "['I', 'know', 'what', 'they', 'are']\n"
     ]
    }
   ],
   "source": [
    "#Lists\n",
    "\n",
    "lists = ['I', 'know', 'what', 'they', 'are']\n",
    "\n",
    "print(lists)"
   ]
  },
  {
   "cell_type": "code",
   "execution_count": 11,
   "id": "f00ed53e",
   "metadata": {},
   "outputs": [
    {
     "data": {
      "text/plain": [
       "['I', 'know', 'what', 'they', 'are', 'Dude..']"
      ]
     },
     "execution_count": 11,
     "metadata": {},
     "output_type": "execute_result"
    }
   ],
   "source": [
    "lists.append('Dude..')\n",
    "\n",
    "lists"
   ]
  },
  {
   "cell_type": "code",
   "execution_count": 12,
   "id": "f318d5ac",
   "metadata": {},
   "outputs": [
    {
     "data": {
      "text/plain": [
       "['We', 'know', 'what', 'they', 'are', 'Dude..']"
      ]
     },
     "execution_count": 12,
     "metadata": {},
     "output_type": "execute_result"
    }
   ],
   "source": [
    "lists[0] = 'We'\n",
    "\n",
    "lists"
   ]
  },
  {
   "cell_type": "code",
   "execution_count": 13,
   "id": "04d1ed22",
   "metadata": {},
   "outputs": [],
   "source": [
    "# Nested lists\n",
    "\n",
    "nested_lists = ['We', 'know', ['what', 'they'], 'are']"
   ]
  },
  {
   "cell_type": "code",
   "execution_count": 14,
   "id": "6bda61af",
   "metadata": {},
   "outputs": [
    {
     "data": {
      "text/plain": [
       "'they'"
      ]
     },
     "execution_count": 14,
     "metadata": {},
     "output_type": "execute_result"
    }
   ],
   "source": [
    "nested_lists[2][1]"
   ]
  },
  {
   "cell_type": "code",
   "execution_count": 15,
   "id": "26d5fd23",
   "metadata": {},
   "outputs": [
    {
     "data": {
      "text/plain": [
       "tuple"
      ]
     },
     "execution_count": 15,
     "metadata": {},
     "output_type": "execute_result"
    }
   ],
   "source": [
    "# Tuples\n",
    "\n",
    "tuple_scoops = (1, 2, 3, 2, 1)\n",
    "\n",
    "type(tuple_scoops)"
   ]
  },
  {
   "cell_type": "code",
   "execution_count": 16,
   "id": "374c1053",
   "metadata": {},
   "outputs": [
    {
     "data": {
      "text/plain": [
       "1"
      ]
     },
     "execution_count": 16,
     "metadata": {},
     "output_type": "execute_result"
    }
   ],
   "source": [
    "tuple_scoops[0]"
   ]
  },
  {
   "cell_type": "code",
   "execution_count": 17,
   "id": "03a9ddf1",
   "metadata": {},
   "outputs": [
    {
     "data": {
      "text/plain": [
       "set"
      ]
     },
     "execution_count": 17,
     "metadata": {},
     "output_type": "execute_result"
    }
   ],
   "source": [
    "# Sets - shows unique values\n",
    "\n",
    "a_set = {1,2,3,6}\n",
    "\n",
    "type(a_set)"
   ]
  },
  {
   "cell_type": "code",
   "execution_count": 18,
   "id": "50abdc5c",
   "metadata": {},
   "outputs": [
    {
     "name": "stdout",
     "output_type": "stream",
     "text": [
      "{1, 2, 3, 6}\n"
     ]
    }
   ],
   "source": [
    "print(a_set)"
   ]
  },
  {
   "cell_type": "code",
   "execution_count": 19,
   "id": "d72c8bd7",
   "metadata": {},
   "outputs": [],
   "source": [
    "a_dif_set = {1,2,3,4,5,1,2,3,4,5,1,2,3,4,5}"
   ]
  },
  {
   "cell_type": "code",
   "execution_count": 20,
   "id": "cf114319",
   "metadata": {},
   "outputs": [
    {
     "name": "stdout",
     "output_type": "stream",
     "text": [
      "{1, 2, 3, 4, 5}\n"
     ]
    }
   ],
   "source": [
    "print(a_dif_set)"
   ]
  },
  {
   "cell_type": "code",
   "execution_count": 21,
   "id": "63f2e828",
   "metadata": {},
   "outputs": [
    {
     "name": "stdout",
     "output_type": "stream",
     "text": [
      "{1, 2, 3, 4, 5, 6}\n"
     ]
    }
   ],
   "source": [
    "print(a_set | a_dif_set)\n",
    "#shows only distinct values in both sets"
   ]
  },
  {
   "cell_type": "code",
   "execution_count": 22,
   "id": "a6c88630",
   "metadata": {},
   "outputs": [
    {
     "name": "stdout",
     "output_type": "stream",
     "text": [
      "{1, 2, 3}\n"
     ]
    }
   ],
   "source": [
    "print(a_set & a_dif_set)\n",
    "#shows only what matches in both sets"
   ]
  },
  {
   "cell_type": "code",
   "execution_count": 23,
   "id": "dfafbc8a",
   "metadata": {},
   "outputs": [
    {
     "name": "stdout",
     "output_type": "stream",
     "text": [
      "{4, 5}\n"
     ]
    }
   ],
   "source": [
    "print(a_dif_set - a_set)\n",
    "#shows only what doesn't match in both sets"
   ]
  },
  {
   "cell_type": "code",
   "execution_count": 24,
   "id": "a88644c5",
   "metadata": {},
   "outputs": [
    {
     "name": "stdout",
     "output_type": "stream",
     "text": [
      "{4, 5, 6}\n"
     ]
    }
   ],
   "source": [
    "print(a_dif_set ^ a_set)\n",
    "#shows only what's unique in each of the sets"
   ]
  },
  {
   "cell_type": "code",
   "execution_count": 25,
   "id": "c25b8c50",
   "metadata": {},
   "outputs": [],
   "source": [
    "# Dicts - Key/Value Pair\n",
    "\n",
    "dict_cream = {'name': 'Tal Baruchi', 'Weekly intake':5, \n",
    "              'Fav. Ice Cream': ['Choclate','Coconut']}"
   ]
  },
  {
   "cell_type": "code",
   "execution_count": 26,
   "id": "b003094d",
   "metadata": {},
   "outputs": [
    {
     "data": {
      "text/plain": [
       "dict_values(['Tal Baruchi', 5, ['Choclate', 'Coconut']])"
      ]
     },
     "execution_count": 26,
     "metadata": {},
     "output_type": "execute_result"
    }
   ],
   "source": [
    "dict_cream.values()"
   ]
  },
  {
   "cell_type": "code",
   "execution_count": 27,
   "id": "3f74815a",
   "metadata": {},
   "outputs": [
    {
     "data": {
      "text/plain": [
       "dict_keys(['name', 'Weekly intake', 'Fav. Ice Cream'])"
      ]
     },
     "execution_count": 27,
     "metadata": {},
     "output_type": "execute_result"
    }
   ],
   "source": [
    "dict_cream.keys()"
   ]
  },
  {
   "cell_type": "code",
   "execution_count": 28,
   "id": "46433c0a",
   "metadata": {},
   "outputs": [
    {
     "data": {
      "text/plain": [
       "dict_items([('name', 'Tal Baruchi'), ('Weekly intake', 5), ('Fav. Ice Cream', ['Choclate', 'Coconut'])])"
      ]
     },
     "execution_count": 28,
     "metadata": {},
     "output_type": "execute_result"
    }
   ],
   "source": [
    "dict_cream.items()"
   ]
  },
  {
   "cell_type": "code",
   "execution_count": 29,
   "id": "f4044a3f",
   "metadata": {},
   "outputs": [
    {
     "data": {
      "text/plain": [
       "'Tal Baruchi'"
      ]
     },
     "execution_count": 29,
     "metadata": {},
     "output_type": "execute_result"
    }
   ],
   "source": [
    "# How to index into Dicts\n",
    "\n",
    "dict_cream['name']"
   ]
  },
  {
   "cell_type": "code",
   "execution_count": 30,
   "id": "48d008c5",
   "metadata": {},
   "outputs": [
    {
     "name": "stdout",
     "output_type": "stream",
     "text": [
      "{'name': 'cock lmao', 'Weekly intake': 5, 'Fav. Ice Cream': ['Choclate', 'Coconut']}\n"
     ]
    }
   ],
   "source": [
    "dict_cream['name'] = 'cock lmao'\n",
    "\n",
    "print(dict_cream)"
   ]
  },
  {
   "cell_type": "code",
   "execution_count": 31,
   "id": "4d05454b",
   "metadata": {},
   "outputs": [
    {
     "name": "stdout",
     "output_type": "stream",
     "text": [
      "{'name': 'cock lmao', 'Weekly intake': 5, 'Fav. Ice Cream': ['Choclate', 'Coconut'], 'weight': '73kg'}\n"
     ]
    }
   ],
   "source": [
    "dict_cream.update({'weight': '73kg'})\n",
    "\n",
    "print(dict_cream)"
   ]
  },
  {
   "cell_type": "code",
   "execution_count": 32,
   "id": "3a95c015",
   "metadata": {},
   "outputs": [
    {
     "name": "stdout",
     "output_type": "stream",
     "text": [
      "{'name': 'cock lmao', 'Weekly intake': 5, 'Fav. Ice Cream': ['Choclate', 'Coconut']}\n"
     ]
    }
   ],
   "source": [
    "del dict_cream['weight']\n",
    "print(dict_cream)"
   ]
  },
  {
   "cell_type": "code",
   "execution_count": null,
   "id": "49665d6b",
   "metadata": {},
   "outputs": [],
   "source": []
  }
 ],
 "metadata": {
  "kernelspec": {
   "display_name": "Python 3 (ipykernel)",
   "language": "python",
   "name": "python3"
  },
  "language_info": {
   "codemirror_mode": {
    "name": "ipython",
    "version": 3
   },
   "file_extension": ".py",
   "mimetype": "text/x-python",
   "name": "python",
   "nbconvert_exporter": "python",
   "pygments_lexer": "ipython3",
   "version": "3.11.7"
  }
 },
 "nbformat": 4,
 "nbformat_minor": 5
}
