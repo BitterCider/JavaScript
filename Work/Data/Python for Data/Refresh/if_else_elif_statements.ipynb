{
 "cells": [
  {
   "cell_type": "code",
   "execution_count": 1,
   "id": "cc330870",
   "metadata": {},
   "outputs": [
    {
     "name": "stdout",
     "output_type": "stream",
     "text": [
      "SKONG!\n"
     ]
    }
   ],
   "source": [
    "if 25 > 10:\n",
    "    print('SKONG!')"
   ]
  },
  {
   "cell_type": "code",
   "execution_count": 3,
   "id": "9b33dd1e",
   "metadata": {},
   "outputs": [
    {
     "name": "stdout",
     "output_type": "stream",
     "text": [
      "Nah, I'd SKONK!\n"
     ]
    }
   ],
   "source": [
    "if 25 < 10:\n",
    "    print('SKONG!')\n",
    "else:\n",
    "    print(\"Nah, I'd SKONK!\")"
   ]
  },
  {
   "cell_type": "code",
   "execution_count": 4,
   "id": "11d1177b",
   "metadata": {},
   "outputs": [
    {
     "name": "stdout",
     "output_type": "stream",
     "text": [
      "-Y\n"
     ]
    }
   ],
   "source": [
    "if 25 < 10:\n",
    "    print('SKONG!')\n",
    "    \n",
    "elif 25 < 30:\n",
    "    print('-Y')\n",
    "    \n",
    "else:\n",
    "    print(\"Nah, I'd SKONK!\")"
   ]
  },
  {
   "cell_type": "code",
   "execution_count": 5,
   "id": "f5461800",
   "metadata": {},
   "outputs": [
    {
     "name": "stdout",
     "output_type": "stream",
     "text": [
      "SKONG!\n"
     ]
    }
   ],
   "source": [
    "print('SKONG!') if 10 < 30 else print('-Y')"
   ]
  },
  {
   "cell_type": "code",
   "execution_count": 7,
   "id": "6004063c",
   "metadata": {},
   "outputs": [
    {
     "name": "stdout",
     "output_type": "stream",
     "text": [
      "SKONG!\n",
      "-Y\n"
     ]
    }
   ],
   "source": [
    "# nested if statments\n",
    "\n",
    "if 25 > 10:\n",
    "    print('SKONG!')\n",
    "    \n",
    "    if 25 < 30:\n",
    "        print('-Y')\n",
    "    \n",
    "else:\n",
    "    print(\"Nah, I'd SKONK!\")"
   ]
  },
  {
   "cell_type": "code",
   "execution_count": null,
   "id": "eb63f9e0",
   "metadata": {},
   "outputs": [],
   "source": []
  },
  {
   "cell_type": "code",
   "execution_count": null,
   "id": "322dd7a5",
   "metadata": {},
   "outputs": [],
   "source": []
  },
  {
   "cell_type": "code",
   "execution_count": null,
   "id": "419a4eff",
   "metadata": {},
   "outputs": [],
   "source": []
  },
  {
   "cell_type": "code",
   "execution_count": null,
   "id": "e8b1ff89",
   "metadata": {},
   "outputs": [],
   "source": []
  },
  {
   "cell_type": "code",
   "execution_count": null,
   "id": "1fc39294",
   "metadata": {},
   "outputs": [],
   "source": []
  },
  {
   "cell_type": "code",
   "execution_count": null,
   "id": "36ba700d",
   "metadata": {},
   "outputs": [],
   "source": []
  },
  {
   "cell_type": "code",
   "execution_count": null,
   "id": "df3a43d1",
   "metadata": {},
   "outputs": [],
   "source": []
  },
  {
   "cell_type": "code",
   "execution_count": null,
   "id": "d7ac6a1b",
   "metadata": {},
   "outputs": [],
   "source": []
  },
  {
   "cell_type": "code",
   "execution_count": null,
   "id": "24fcf6bd",
   "metadata": {},
   "outputs": [],
   "source": []
  },
  {
   "cell_type": "code",
   "execution_count": null,
   "id": "9e9f00fa",
   "metadata": {},
   "outputs": [],
   "source": []
  },
  {
   "cell_type": "code",
   "execution_count": null,
   "id": "ce50f858",
   "metadata": {},
   "outputs": [],
   "source": []
  }
 ],
 "metadata": {
  "kernelspec": {
   "display_name": "Python 3 (ipykernel)",
   "language": "python",
   "name": "python3"
  },
  "language_info": {
   "codemirror_mode": {
    "name": "ipython",
    "version": 3
   },
   "file_extension": ".py",
   "mimetype": "text/x-python",
   "name": "python",
   "nbconvert_exporter": "python",
   "pygments_lexer": "ipython3",
   "version": "3.11.7"
  }
 },
 "nbformat": 4,
 "nbformat_minor": 5
}
