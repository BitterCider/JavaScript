{
 "cells": [
  {
   "cell_type": "markdown",
   "id": "a05ac9c5",
   "metadata": {},
   "source": [
    "# for Loops\n"
   ]
  },
  {
   "cell_type": "code",
   "execution_count": 15,
   "id": "0e0b639c",
   "metadata": {},
   "outputs": [
    {
     "name": "stdout",
     "output_type": "stream",
     "text": [
      "1 2 3 4 5 "
     ]
    }
   ],
   "source": [
    "ints = [1,2,3,4,5]\n",
    "\n",
    "for i in ints:\n",
    "    print(i, end = ' ')"
   ]
  },
  {
   "cell_type": "code",
   "execution_count": 16,
   "id": "e3d46822",
   "metadata": {},
   "outputs": [
    {
     "name": "stdout",
     "output_type": "stream",
     "text": [
      "SKONG!\n",
      "SKONG!\n",
      "SKONG!\n",
      "SKONG!\n",
      "SKONG!\n"
     ]
    }
   ],
   "source": [
    "for i in range(5):\n",
    "    print('SKONG!')"
   ]
  },
  {
   "cell_type": "code",
   "execution_count": 17,
   "id": "03dd29a1",
   "metadata": {},
   "outputs": [
    {
     "name": "stdout",
     "output_type": "stream",
     "text": [
      "2\n",
      "4\n",
      "6\n",
      "8\n",
      "10\n"
     ]
    }
   ],
   "source": [
    "for i in ints:\n",
    "    print(i + i)"
   ]
  },
  {
   "cell_type": "code",
   "execution_count": 18,
   "id": "1b102e81",
   "metadata": {},
   "outputs": [],
   "source": [
    "cock_dict = {'name': 'Hornet Fleming', 'Weekly intake': 10,\n",
    "             'Fav. Sauce': ['Sis', 'Smoms']}"
   ]
  },
  {
   "cell_type": "code",
   "execution_count": 55,
   "id": "1f72556d",
   "metadata": {},
   "outputs": [
    {
     "name": "stdout",
     "output_type": "stream",
     "text": [
      "Hornet Fleming\n",
      "10\n",
      "['Sis', 'Smoms']\n"
     ]
    }
   ],
   "source": [
    "for cock in cock_dict.values():\n",
    "    print(cock)"
   ]
  },
  {
   "cell_type": "code",
   "execution_count": 54,
   "id": "6122896d",
   "metadata": {},
   "outputs": [
    {
     "name": "stdout",
     "output_type": "stream",
     "text": [
      "name is Hornet Fleming\n",
      "Weekly intake is 10\n",
      "Fav. Sauce is ['Sis', 'Smoms']\n"
     ]
    }
   ],
   "source": [
    "for cock, sus in cock_dict.items():\n",
    "    print(f'{cock} is {sus}')"
   ]
  },
  {
   "cell_type": "markdown",
   "id": "3ea95b27",
   "metadata": {},
   "source": [
    "# Nested for Loops"
   ]
  },
  {
   "cell_type": "code",
   "execution_count": 57,
   "id": "67b99094",
   "metadata": {},
   "outputs": [
    {
     "name": "stdout",
     "output_type": "stream",
     "text": [
      "Skong I will SKONK\n",
      "Skong I will -Y\n",
      "Skong I will Bait\n",
      "skink I will SKONK\n",
      "skink I will -Y\n",
      "skink I will Bait\n",
      "skinkskong I will SKONK\n",
      "skinkskong I will -Y\n",
      "skinkskong I will Bait\n"
     ]
    }
   ],
   "source": [
    "names = ['Skong', 'skink', 'skinkskong']\n",
    "memes = ['SKONK', '-Y', 'Bait']\n",
    "\n",
    "for name in names:\n",
    "    for meme in memes:\n",
    "        print(name, 'I will', meme)"
   ]
  },
  {
   "cell_type": "code",
   "execution_count": null,
   "id": "25cf652b",
   "metadata": {},
   "outputs": [],
   "source": []
  },
  {
   "cell_type": "code",
   "execution_count": null,
   "id": "ae010fc2",
   "metadata": {},
   "outputs": [],
   "source": []
  },
  {
   "cell_type": "code",
   "execution_count": null,
   "id": "32e6c0f1",
   "metadata": {},
   "outputs": [],
   "source": []
  },
  {
   "cell_type": "code",
   "execution_count": null,
   "id": "412546b2",
   "metadata": {},
   "outputs": [],
   "source": []
  },
  {
   "cell_type": "code",
   "execution_count": null,
   "id": "2510fb94",
   "metadata": {},
   "outputs": [],
   "source": []
  },
  {
   "cell_type": "code",
   "execution_count": null,
   "id": "4012e276",
   "metadata": {},
   "outputs": [],
   "source": []
  },
  {
   "cell_type": "code",
   "execution_count": null,
   "id": "d171c63b",
   "metadata": {},
   "outputs": [],
   "source": []
  },
  {
   "cell_type": "code",
   "execution_count": null,
   "id": "03712acf",
   "metadata": {},
   "outputs": [],
   "source": []
  },
  {
   "cell_type": "code",
   "execution_count": null,
   "id": "0bc79053",
   "metadata": {},
   "outputs": [],
   "source": []
  },
  {
   "cell_type": "code",
   "execution_count": null,
   "id": "f9e205a1",
   "metadata": {},
   "outputs": [],
   "source": []
  },
  {
   "cell_type": "code",
   "execution_count": null,
   "id": "4ea8ac8f",
   "metadata": {},
   "outputs": [],
   "source": []
  },
  {
   "cell_type": "code",
   "execution_count": null,
   "id": "139a1f91",
   "metadata": {},
   "outputs": [],
   "source": []
  },
  {
   "cell_type": "code",
   "execution_count": null,
   "id": "f0f2e2f3",
   "metadata": {},
   "outputs": [],
   "source": []
  }
 ],
 "metadata": {
  "kernelspec": {
   "display_name": "Python 3 (ipykernel)",
   "language": "python",
   "name": "python3"
  },
  "language_info": {
   "codemirror_mode": {
    "name": "ipython",
    "version": 3
   },
   "file_extension": ".py",
   "mimetype": "text/x-python",
   "name": "python",
   "nbconvert_exporter": "python",
   "pygments_lexer": "ipython3",
   "version": "3.11.7"
  }
 },
 "nbformat": 4,
 "nbformat_minor": 5
}
