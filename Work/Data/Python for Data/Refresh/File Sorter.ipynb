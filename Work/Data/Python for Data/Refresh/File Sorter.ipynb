{
 "cells": [
  {
   "cell_type": "markdown",
   "id": "ea77b356",
   "metadata": {},
   "source": [
    "# Automated File Sorter in File Explorer"
   ]
  },
  {
   "cell_type": "code",
   "execution_count": 48,
   "id": "7ac750ee",
   "metadata": {},
   "outputs": [],
   "source": [
    "import os, shutil"
   ]
  },
  {
   "cell_type": "code",
   "execution_count": 49,
   "id": "a8965a95",
   "metadata": {},
   "outputs": [],
   "source": [
    "path = r\"C:/Users/user/Downloads/\""
   ]
  },
  {
   "cell_type": "code",
   "execution_count": 53,
   "id": "dec9c306",
   "metadata": {},
   "outputs": [
    {
     "name": "stdout",
     "output_type": "stream",
     "text": [
      "['desktop.ini', 'excel files', 'exe files', 'msi files', 'pdf files', 'sql files', 'zip and rar files']\n"
     ]
    }
   ],
   "source": [
    "file_names = os.listdir(path)"
   ]
  },
  {
   "cell_type": "code",
   "execution_count": 51,
   "id": "e6da98c8",
   "metadata": {},
   "outputs": [],
   "source": [
    "folder_names = ['zip and rar files', 'exe files',\n",
    "                'pdf files', 'sql files', 'excel files', 'msi files']\n",
    "\n",
    "for name in range(len(folder_names)):\n",
    "    if not os.path.exists(path + folder_names[name]):\n",
    "        os.makedirs(path + folder_names[name])\n",
    "\n",
    "\n"
   ]
  },
  {
   "cell_type": "code",
   "execution_count": 52,
   "id": "0ad28dcc",
   "metadata": {},
   "outputs": [
    {
     "name": "stdout",
     "output_type": "stream",
     "text": [
      "File not supported or already in folder\n",
      "File not supported or already in folder\n",
      "File not supported or already in folder\n",
      "File not supported or already in folder\n",
      "File not supported or already in folder\n",
      "File not supported or already in folder\n",
      "File not supported or already in folder\n"
     ]
    }
   ],
   "source": [
    "for file in file_names:\n",
    "    if \".rar\" in file or \".zip\" in file and not os.path.exists(path + \"zip and rar files/\" + file):\n",
    "        shutil.move(path + file, path + \"zip and rar files/\" + file)\n",
    "    elif \".exe\" in file and not os.path.exists(path + \"exe files/\" + file):\n",
    "        shutil.move(path + file, path + \"exe files/\" + file)\n",
    "    elif \".msi\" in file and not os.path.exists(path + \"msi files/\" + file):\n",
    "        shutil.move(path + file, path + \"msi files/\" + file)\n",
    "    elif \".pdf\" in file and not os.path.exists(path + \"pdf files/\" + file):\n",
    "        shutil.move(path + file, path + \"pdf files/\" + file)\n",
    "    elif \".sql\" in file and not os.path.exists(path + \"sql files/\" + file):\n",
    "        shutil.move(path + file, path + \"sql files/\" + file)\n",
    "    elif \".xlsx\" in file and not os.path.exists(path + \"excel files/\" + file):\n",
    "        shutil.move(path + file, path + \"excel files/\" + file)\n",
    "    else:\n",
    "        print(\"File not supported or already in folder\")\n",
    "    "
   ]
  },
  {
   "cell_type": "code",
   "execution_count": null,
   "id": "32fe72b5",
   "metadata": {},
   "outputs": [],
   "source": []
  },
  {
   "cell_type": "code",
   "execution_count": null,
   "id": "362b8746",
   "metadata": {},
   "outputs": [],
   "source": []
  },
  {
   "cell_type": "code",
   "execution_count": null,
   "id": "3b50290b",
   "metadata": {},
   "outputs": [],
   "source": []
  },
  {
   "cell_type": "code",
   "execution_count": null,
   "id": "64f68960",
   "metadata": {},
   "outputs": [],
   "source": []
  },
  {
   "cell_type": "code",
   "execution_count": null,
   "id": "f7bed568",
   "metadata": {},
   "outputs": [],
   "source": []
  },
  {
   "cell_type": "code",
   "execution_count": null,
   "id": "3f336650",
   "metadata": {},
   "outputs": [],
   "source": []
  },
  {
   "cell_type": "code",
   "execution_count": null,
   "id": "c0c87d87",
   "metadata": {},
   "outputs": [],
   "source": []
  },
  {
   "cell_type": "code",
   "execution_count": null,
   "id": "daf1eb42",
   "metadata": {},
   "outputs": [],
   "source": []
  }
 ],
 "metadata": {
  "kernelspec": {
   "display_name": "Python 3 (ipykernel)",
   "language": "python",
   "name": "python3"
  },
  "language_info": {
   "codemirror_mode": {
    "name": "ipython",
    "version": 3
   },
   "file_extension": ".py",
   "mimetype": "text/x-python",
   "name": "python",
   "nbconvert_exporter": "python",
   "pygments_lexer": "ipython3",
   "version": "3.11.7"
  }
 },
 "nbformat": 4,
 "nbformat_minor": 5
}
