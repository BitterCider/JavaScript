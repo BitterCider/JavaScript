{
 "cells": [
  {
   "cell_type": "code",
   "execution_count": 6,
   "id": "14f2cbe7",
   "metadata": {},
   "outputs": [
    {
     "name": "stdout",
     "output_type": "stream",
     "text": [
      "What's your weight in kg?: 73\n",
      "What's your height in meters?: 1.83\n",
      "Your BMI is: 21.798202394816204\n"
     ]
    }
   ],
   "source": [
    "def main():\n",
    "    while True:\n",
    "        weight = float(input(\"What's your weight in kg?: \"))\n",
    "        height = float(input(\"What's your height in meters?: \"))\n",
    "        break\n",
    "    print(f'Your BMI is: {BMI(weight, height)}')\n",
    "        \n",
    "def BMI(kg, m):\n",
    "    BMI = kg/(m**2)\n",
    "    return BMI\n",
    "\n",
    "\n",
    "main()"
   ]
  },
  {
   "cell_type": "code",
   "execution_count": null,
   "id": "f014857b",
   "metadata": {},
   "outputs": [],
   "source": []
  }
 ],
 "metadata": {
  "kernelspec": {
   "display_name": "Python 3 (ipykernel)",
   "language": "python",
   "name": "python3"
  },
  "language_info": {
   "codemirror_mode": {
    "name": "ipython",
    "version": 3
   },
   "file_extension": ".py",
   "mimetype": "text/x-python",
   "name": "python",
   "nbconvert_exporter": "python",
   "pygments_lexer": "ipython3",
   "version": "3.11.7"
  }
 },
 "nbformat": 4,
 "nbformat_minor": 5
}
